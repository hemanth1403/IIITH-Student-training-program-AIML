{
  "cells": [
    {
      "cell_type": "markdown",
      "metadata": {},
      "source": [
        "[![Open in Colab](https://colab.research.google.com/assets/colab-badge.svg)](https://colab.research.google.com/github/hemanth1403/IIITH-Student-training-program-AIML/blob/main/AIML_Module_1_Lab_3_Data_Augmentation.ipynb)"
      ]
    },
    {
      "cell_type": "markdown",
      "metadata": {
        "id": "w3yfry25JgZK"
      },
      "source": [
        "# Data augmentation\n",
        "\n",
        " In this lab, we will see how augmentation of data samples help in improving the machine learning performance"
      ]
    },
    {
      "cell_type": "code",
      "execution_count": 83,
      "metadata": {
        "id": "xZU8_elooqP0"
      },
      "outputs": [],
      "source": [
        "# !pip3 install scikit-image\n",
        "import numpy as np\n",
        "import matplotlib.pyplot as plt\n",
        "from keras.datasets import mnist\n",
        "# set randomseed\n",
        "rng = np.random.default_rng(seed=43)\n",
        "from sklearn.utils.extmath import cartesian\n",
        "from skimage.transform import rotate, AffineTransform, warp\n",
        "import math"
      ]
    },
    {
      "cell_type": "markdown",
      "metadata": {
        "id": "T5pHYogSMHiE"
      },
      "source": [
        "Augmentation is useful when we have less training data available. Augmentation allows us to 'create' a larger dataset programatically.\n",
        "\n",
        "For this lab we will use a subset of MNIST that is very small, to better understand the effect of augmentation."
      ]
    },
    {
      "cell_type": "code",
      "execution_count": 84,
      "metadata": {
        "colab": {
          "base_uri": "https://localhost:8080/"
        },
        "id": "gJvmWJ58ovx5",
        "outputId": "b24f7c89-5543-4083-9118-0d308fe01be9"
      },
      "outputs": [],
      "source": [
        "#loading the dataset\n",
        "(train_X, train_y), (test_X, test_y) = mnist.load_data()\n",
        "train_X = train_X/255\n",
        "test_X = test_X/255\n",
        "# print(train_X.shape)\n",
        "train_X = train_X[::1200,:,:].copy() # subsample. Otherwise it will take too long!\n",
        "train_y = train_y[::1200].copy() # do the same to the labels\n",
        "# print(len(train_X.shape))"
      ]
    },
    {
      "cell_type": "markdown",
      "metadata": {
        "id": "8XamH6z1Rt7S"
      },
      "source": [
        "Let us borrow a few functions from the previous labs:"
      ]
    },
    {
      "cell_type": "code",
      "execution_count": 85,
      "metadata": {
        "id": "Zk2W5_3BRLMS"
      },
      "outputs": [],
      "source": [
        "def NN1(traindata, trainlabel, query):\n",
        "  diff  = traindata - query  # find the difference between features. Numpy automatically takes care of the size here\n",
        "  sq = diff*diff # square the differences\n",
        "  dist = sq.sum(1) # add up the squares\n",
        "  label = trainlabel[np.argmin(dist)] # our predicted label is the label of the training data which has the least distance from the query\n",
        "  return label\n",
        "\n",
        "def NN(traindata, trainlabel, testdata):\n",
        "  # we will run nearest neighbour for each sample in the test data\n",
        "  # and collect the predicted classes in an array using list comprehension\n",
        "  traindata = traindata.reshape(-1, 28*28)\n",
        "  testdata = testdata.reshape(-1,28*28)\n",
        "  predlabel = np.array([NN1(traindata, trainlabel, i) for i in testdata])\n",
        "  return predlabel\n",
        "\n",
        "def Accuracy(gtlabel, predlabel):\n",
        "  assert len(gtlabel)==len(predlabel), \"Length of the groundtruth labels and predicted labels should be the same\"\n",
        "  correct = (gtlabel==predlabel).sum() # count the number of times the groundtruth label is equal to the predicted label.\n",
        "  # print(correct, len(gtlabel))\n",
        "  return correct/len(gtlabel)"
      ]
    },
    {
      "cell_type": "markdown",
      "metadata": {
        "id": "eGiA3LmDSJZo"
      },
      "source": [
        "In this lab, we will use the image pixels themselves as features, instead of extracting features. Each image has 28*28 pixels, so we will flatten them to 784 pixels to use as features. Note that this is very compute intensive and will take a long time.<br>\n",
        "\n",
        "Let us check the baseline accuracy on the test set without any augmentations. We hope that adding augmentations will help us to get better results."
      ]
    },
    {
      "cell_type": "code",
      "execution_count": 86,
      "metadata": {
        "colab": {
          "base_uri": "https://localhost:8080/"
        },
        "id": "4tQvnoasRNEV",
        "outputId": "bf96cc59-cd7b-4236-cb33-a285c5889a8e"
      },
      "outputs": [
        {
          "name": "stdout",
          "output_type": "stream",
          "text": [
            "Baseline accuracy without augmentation is  0.6472\n"
          ]
        }
      ],
      "source": [
        "testpred = NN(train_X, train_y, test_X)\n",
        "print('Baseline accuracy without augmentation is ', Accuracy(test_y, testpred))"
      ]
    },
    {
      "cell_type": "markdown",
      "metadata": {
        "id": "ZfkcMfhIZQ7U"
      },
      "source": [
        "Let us try to improve this accuracy using augmentations. When we create augmentations, we have to make sure that the changes reflect what will naturally occur in the dataset. For example, we should not add colour to our samples as an augmentation because they do not naturally occur. We should not also flip the images in MNIST, because flipped images have different meanings for digits.\n",
        "\n",
        "### Augmentation 1: rotation\n",
        "\n",
        "Let us try rotating the image a little. We will use skimage library for this."
      ]
    },
    {
      "cell_type": "code",
      "execution_count": 87,
      "metadata": {
        "colab": {
          "base_uri": "https://localhost:8080/",
          "height": 861
        },
        "id": "z5WolJ9fZE7L",
        "outputId": "87d10772-e312-46e4-c902-fa10f698fe68"
      },
      "outputs": [
        {
          "data": {
            "image/png": "[encoded data removed]",
            "text/plain": [
              "<Figure size 640x480 with 1 Axes>"
            ]
          },
          "metadata": {},
          "output_type": "display_data"
        },
        {
          "data": {
            "text/plain": [
              "<matplotlib.image.AxesImage at 0x29042d2d0>"
            ]
          },
          "execution_count": 87,
          "metadata": {},
          "output_type": "execute_result"
        },
        {
          "data": {
            "image/png": "[encoded data removed]",
            "text/plain": [
              "<Figure size 640x480 with 1 Axes>"
            ]
          },
          "metadata": {},
          "output_type": "display_data"
        }
      ],
      "source": [
        "plt.imshow(train_X[2], cmap='gray')\n",
        "plt.show()\n",
        "plt.imshow(rotate(train_X[2],25), cmap='gray')\n",
        "# print(train_X.shape)"
      ]
    },
    {
      "cell_type": "markdown",
      "metadata": {
        "id": "KE33Yxgggu0c"
      },
      "source": [
        "After rotating, the the class of the image is still the same. Let us make a function to rotate multiple images by random angles. We want a slightly different image every time we run this function. So, we generate a random number between 0 and 1 and change it so that it lies between -constraint/2 and +constraint/2"
      ]
    },
    {
      "cell_type": "code",
      "execution_count": 88,
      "metadata": {
        "id": "vyM7pUV7Reze"
      },
      "outputs": [],
      "source": [
        "def augRotate(sample, angleconstraint):\n",
        "  if angleconstraint==0:\n",
        "    return sample\n",
        "  if len(sample.shape)==2:\n",
        "    sample = np.expand_dims(sample, 0)  # make sure the sample is 3 dimensional\n",
        "    # print(sample.shape)\n",
        "  # print((sample))\n",
        "  angle = rng.random(len(sample)) # generate random numbers for angles\n",
        "  # print(angle)\n",
        "  angle = (angle-0.5)*angleconstraint # make the random angle constrained\n",
        "  # print(angle)\n",
        "  nsample = sample.copy() # preallocate the augmented array to make it faster\n",
        "  for ii in range(len(sample)):\n",
        "    # print(sample[ii].shape)\n",
        "    nsample[ii] = rotate(sample[ii], angle[ii])\n",
        "  return np.squeeze(nsample) # take care if the input had only one sample."
      ]
    },
    {
      "cell_type": "markdown",
      "metadata": {
        "id": "kDk-N5VNjar9"
      },
      "source": [
        "This function returns a slightly different image each time we call it. So we can increase the number of images in the sample by any multiple."
      ]
    },
    {
      "cell_type": "code",
      "execution_count": 89,
      "metadata": {
        "colab": {
          "base_uri": "https://localhost:8080/",
          "height": 640
        },
        "id": "Vw3O9zGFgI8K",
        "outputId": "dffc1a44-a230-40da-dac6-327466d55131"
      },
      "outputs": [
        {
          "data": {
            "image/png": "[encoded data removed]",
            "text/plain": [
              "<Figure size 640x480 with 1 Axes>"
            ]
          },
          "metadata": {},
          "output_type": "display_data"
        },
        {
          "data": {
            "text/plain": [
              "<matplotlib.image.AxesImage at 0x29048f340>"
            ]
          },
          "execution_count": 89,
          "metadata": {},
          "output_type": "execute_result"
        },
        {
          "data": {
            "image/png": "[encoded data removed]",
            "text/plain": [
              "<Figure size 640x480 with 3 Axes>"
            ]
          },
          "metadata": {},
          "output_type": "display_data"
        }
      ],
      "source": [
        "sample = train_X[20]\n",
        "angleconstraint = 70\n",
        "# show the original image\n",
        "# print(len(sample.shape))\n",
        "aug_sample = augRotate(sample, angleconstraint)\n",
        "# print(aug_sample.shape)\n",
        "plt.imshow(sample, cmap='gray')\n",
        "plt.show()\n",
        "plt.subplot(1,3,1)\n",
        "plt.imshow(aug_sample, cmap='gray') # show an augmented image\n",
        "plt.subplot(1,3,2)\n",
        "plt.imshow(aug_sample, cmap='gray') # show another augmented image from the same sample\n",
        "plt.subplot(1,3,3)\n",
        "plt.imshow(aug_sample, cmap='gray') # one more image from the same sample"
      ]
    },
    {
      "cell_type": "code",
      "execution_count": 90,
      "metadata": {
        "colab": {
          "base_uri": "https://localhost:8080/"
        },
        "id": "iNzNAoDBkRzj",
        "outputId": "7dc07fcc-aac8-4243-c046-8bec9095edd0"
      },
      "outputs": [
        {
          "name": "stdout",
          "output_type": "stream",
          "text": [
            "Accuracy after rotation augmentation is  0.6629\n"
          ]
        }
      ],
      "source": [
        "# hyperparameters\n",
        "angleconstraint = 60\n",
        "naugmentations = 5\n",
        "\n",
        "# augment\n",
        "augdata = train_X # we include the original images also in the augmented dataset\n",
        "auglabel = train_y\n",
        "for ii in range(naugmentations):\n",
        "  augdata = np.concatenate((augdata, augRotate(train_X, angleconstraint))) # concatenate the augmented data to the set\n",
        "  auglabel = np.concatenate((auglabel, train_y))  # the labels don't change when we augment\n",
        "\n",
        "# check the test accuracy\n",
        "testpred = NN(augdata, auglabel, test_X)\n",
        "print('Accuracy after rotation augmentation is ', Accuracy(test_y, testpred))"
      ]
    },
    {
      "cell_type": "markdown",
      "metadata": {
        "id": "E88Nt9s1p5R6"
      },
      "source": [
        "The angle constraint is a hyperparameter which we have to tune using a validation set. (Here we are not doing that for time constraints). Let us try a grid search to find the best angle constraint."
      ]
    },
    {
      "cell_type": "code",
      "execution_count": 91,
      "metadata": {
        "colab": {
          "base_uri": "https://localhost:8080/"
        },
        "id": "aiaFRLREmGp6",
        "outputId": "1ddccdcd-501d-4815-cb07-318a6bfd235f"
      },
      "outputs": [
        {
          "name": "stdout",
          "output_type": "stream",
          "text": [
            "Accuracy after rotation augmentation constrained by  0  is  0.6472\n",
            "Accuracy after rotation augmentation constrained by  10  is  0.6672\n",
            "Accuracy after rotation augmentation constrained by  20  is  0.6733\n",
            "Accuracy after rotation augmentation constrained by  30  is  0.684\n",
            "Accuracy after rotation augmentation constrained by  40  is  0.6805\n",
            "Accuracy after rotation augmentation constrained by  50  is  0.6706\n",
            "Accuracy after rotation augmentation constrained by  60  is  0.667\n",
            "Accuracy after rotation augmentation constrained by  70  is  0.6622\n",
            "Accuracy after rotation augmentation constrained by  80  is  0.658\n",
            "Accuracy after rotation augmentation constrained by  90  is  0.6458\n"
          ]
        }
      ],
      "source": [
        "angleconstraints = [0,10,20,30,40,50,60,70,80,90] # the values we want to test\n",
        "accuracies = np.zeros(len(angleconstraints), dtype=np.float64) # we will save the values here\n",
        "\n",
        "for ii in range(len(angleconstraints)):\n",
        "  # create the augmented dataset\n",
        "  augdata = train_X # we include the original images also in the augmented dataset\n",
        "  auglabel = train_y\n",
        "  for jj in range(naugmentations):\n",
        "    augdata = np.concatenate((augdata, augRotate(train_X, angleconstraints[ii]))) # concatenate the augmented data to the set\n",
        "    auglabel = np.concatenate((auglabel, train_y))  # the labels don't change when we augment\n",
        "\n",
        "  # check the test accuracy\n",
        "  testpred = NN(augdata, auglabel, test_X)\n",
        "  accuracies[ii] = Accuracy(test_y, testpred)\n",
        "  print('Accuracy after rotation augmentation constrained by ',angleconstraints[ii], ' is ', accuracies[ii], flush=True)"
      ]
    },
    {
      "cell_type": "markdown",
      "metadata": {
        "id": "2oVDRYP2rxob"
      },
      "source": [
        "Let us see the best value for angle constraint: (Ideally this should be done on validation set, not test set)"
      ]
    },
    {
      "cell_type": "code",
      "execution_count": 92,
      "metadata": {
        "colab": {
          "base_uri": "https://localhost:8080/",
          "height": 486
        },
        "id": "LqthJa_pmMHz",
        "outputId": "81730fdf-8ebb-4161-e276-29c1d54b3c8c"
      },
      "outputs": [
        {
          "data": {
            "text/plain": [
              "<matplotlib.collections.PathCollection at 0x295ffaa40>"
            ]
          },
          "execution_count": 92,
          "metadata": {},
          "output_type": "execute_result"
        },
        {
          "data": {
            "image/png": "[encoded data removed]",
            "text/plain": [
              "<Figure size 640x480 with 1 Axes>"
            ]
          },
          "metadata": {},
          "output_type": "display_data"
        }
      ],
      "source": [
        "fig = plt.figure()\n",
        "ax = fig.add_axes([0.1, 0.1, 0.8, 0.8]) # main axes\n",
        "# plot the variation of accuracy\n",
        "ax.plot(angleconstraints, accuracies)\n",
        "ax.set_xlabel('angle')\n",
        "ax.set_ylabel('accuracy')\n",
        "# plot the maximum accuracy\n",
        "maxind = np.argmax(accuracies)\n",
        "plt.scatter(angleconstraints[maxind], accuracies[maxind], c='red')"
      ]
    },
    {
      "cell_type": "markdown",
      "metadata": {
        "id": "eJ8YuVfCuGTj"
      },
      "source": [
        "Let us try one more augmentation: shear. Here is what this looks like:"
      ]
    },
    {
      "cell_type": "code",
      "execution_count": 93,
      "metadata": {
        "id": "pMiw46NLwssK"
      },
      "outputs": [],
      "source": [
        "def shear(sample, amount):\n",
        "  tform = AffineTransform(shear = amount) # create the shear transform\n",
        "  img = warp(sample, tform) # apply the shear\n",
        "  # this makes the digit off-center. Since all the images in the test set are centralized, we will do the same here\n",
        "  col = img.sum(0).nonzero()[0]\n",
        "  row = img.sum(1).nonzero()[0]\n",
        "  if len(col)>0 and len(row)>0:\n",
        "    xshift = int(sample.shape[0]/2 - (row[0]+row[-1])/2)\n",
        "    yshift = int(sample.shape[1]/2 - (col[0]+col[-1])/2)\n",
        "    img = np.roll(img, (xshift, yshift),(0,1))\n",
        "  return img"
      ]
    },
    {
      "cell_type": "code",
      "execution_count": 94,
      "metadata": {
        "colab": {
          "base_uri": "https://localhost:8080/",
          "height": 861
        },
        "id": "4_u_EYpmnABK",
        "outputId": "03d804ac-97ad-4318-dc0c-1e881c5c294f"
      },
      "outputs": [
        {
          "data": {
            "image/png": "[encoded data removed]",
            "text/plain": [
              "<Figure size 640x480 with 1 Axes>"
            ]
          },
          "metadata": {},
          "output_type": "display_data"
        },
        {
          "data": {
            "text/plain": [
              "<matplotlib.image.AxesImage at 0x295e16530>"
            ]
          },
          "execution_count": 94,
          "metadata": {},
          "output_type": "execute_result"
        },
        {
          "data": {
            "image/png": "[encoded data removed]",
            "text/plain": [
              "<Figure size 640x480 with 1 Axes>"
            ]
          },
          "metadata": {},
          "output_type": "display_data"
        }
      ],
      "source": [
        "sample = train_X[2]\n",
        "plt.imshow(sample, cmap='gray')\n",
        "plt.show()\n",
        "\n",
        "# apply shear\n",
        "plt.imshow(shear(sample, 0.4), cmap='gray')"
      ]
    },
    {
      "cell_type": "markdown",
      "metadata": {
        "id": "lGnWMoyM2pK4"
      },
      "source": [
        "Create an augmentation function which applies a random shear according to the constraint we provide:"
      ]
    },
    {
      "cell_type": "code",
      "execution_count": 95,
      "metadata": {
        "id": "-qLDJyGytwP5"
      },
      "outputs": [],
      "source": [
        "def augShear(sample, shearconstraint):\n",
        "  if shearconstraint==0:\n",
        "    return sample\n",
        "  if len(sample.shape)==2:\n",
        "    sample = np.expand_dims(sample, 0)  # make sure the sample is 3 dimensional\n",
        "  amt = rng.random(len(sample)) # generate random numbers for shear\n",
        "  amt = (amt-0.5)*shearconstraint # make the random shear constrained\n",
        "  nsample = sample.copy() # preallocate the augmented array to make it faster\n",
        "  for ii in range(len(sample)):\n",
        "    nsample[ii] = shear(sample[ii], amt[ii])\n",
        "  return np.squeeze(nsample) # take care if the input had only one sample."
      ]
    },
    {
      "cell_type": "markdown",
      "metadata": {
        "id": "s6lQcWW93suJ"
      },
      "source": [
        "Let us do a grid search to find the best shear constraint."
      ]
    },
    {
      "cell_type": "code",
      "execution_count": 96,
      "metadata": {
        "colab": {
          "base_uri": "https://localhost:8080/"
        },
        "id": "l_wrqPkrzBb_",
        "outputId": "05c81213-798a-4f4b-c127-3dd5e4a77c64"
      },
      "outputs": [
        {
          "name": "stdout",
          "output_type": "stream",
          "text": [
            "Accuracy after shear augmentation constrained by  0  is  0.6472\n",
            "Accuracy after shear augmentation constrained by  0.2  is  0.6347\n",
            "Accuracy after shear augmentation constrained by  0.4  is  0.6491\n",
            "Accuracy after shear augmentation constrained by  0.6  is  0.6601\n",
            "Accuracy after shear augmentation constrained by  0.8  is  0.6586\n",
            "Accuracy after shear augmentation constrained by  1.0  is  0.6533\n",
            "Accuracy after shear augmentation constrained by  1.2  is  0.6487\n",
            "Accuracy after shear augmentation constrained by  1.4  is  0.6475\n",
            "Accuracy after shear augmentation constrained by  1.6  is  0.6415\n",
            "Accuracy after shear augmentation constrained by  1.8  is  0.6374\n",
            "Accuracy after shear augmentation constrained by  2.0  is  0.6155\n"
          ]
        }
      ],
      "source": [
        "shearconstraints = [0, 0.2,0.4,0.6,0.8,1.0,1.2,1.4,1.6,1.8,2.0] # the values we want to test\n",
        "accuracies = np.zeros(len(shearconstraints), dtype=np.float64) # we will save the values here\n",
        "\n",
        "for ii in range(len(shearconstraints)):\n",
        "  # create the augmented dataset\n",
        "  augdata = train_X # we include the original images also in the augmented dataset\n",
        "  auglabel = train_y\n",
        "  for jj in range(naugmentations):\n",
        "    augdata = np.concatenate((augdata, augShear(train_X, shearconstraints[ii]))) # concatenate the augmented data to the set\n",
        "    auglabel = np.concatenate((auglabel, train_y))  # the labels don't change when we augment\n",
        "\n",
        "  # check the test accuracy\n",
        "  testpred = NN(augdata, auglabel, test_X)\n",
        "  accuracies[ii] = Accuracy(test_y, testpred)\n",
        "  print('Accuracy after shear augmentation constrained by ',shearconstraints[ii], ' is ', accuracies[ii], flush=True)"
      ]
    },
    {
      "cell_type": "code",
      "execution_count": 97,
      "metadata": {
        "colab": {
          "base_uri": "https://localhost:8080/",
          "height": 482
        },
        "id": "EKaH-YR-zVnA",
        "outputId": "c999d132-aff9-4774-c687-82546f53fd75"
      },
      "outputs": [
        {
          "data": {
            "text/plain": [
              "<matplotlib.collections.PathCollection at 0x295e2c0d0>"
            ]
          },
          "execution_count": 97,
          "metadata": {},
          "output_type": "execute_result"
        },
        {
          "data": {
            "image/png": "[encoded data removed]",
            "text/plain": [
              "<Figure size 640x480 with 1 Axes>"
            ]
          },
          "metadata": {},
          "output_type": "display_data"
        }
      ],
      "source": [
        "fig = plt.figure()\n",
        "ax = fig.add_axes([0.1, 0.1, 0.8, 0.8]) # main axes\n",
        "# plot the variation of accuracy\n",
        "ax.plot(shearconstraints, accuracies)\n",
        "ax.set_xlabel('angle')\n",
        "ax.set_ylabel('accuracy')\n",
        "# plot the maximum accuracy\n",
        "maxind = np.argmax(accuracies)\n",
        "plt.scatter(shearconstraints[maxind], accuracies[maxind], c='red')"
      ]
    },
    {
      "cell_type": "markdown",
      "metadata": {
        "id": "ccfdbRcQ7Zgg"
      },
      "source": [
        "We can do multiple augmentations at the same time. Here is a function to do both shear and rotation to the sample. In this case, we will have two hyperparameters."
      ]
    },
    {
      "cell_type": "code",
      "execution_count": 98,
      "metadata": {
        "id": "sh8S_Pxa0XCv"
      },
      "outputs": [],
      "source": [
        "def augRotateShear(sample, angleconstraint, shearconstraint):\n",
        "  if len(sample.shape)==2:\n",
        "    sample = np.expand_dims(sample, 0)  # make sure the sample is 3 dimensional\n",
        "  amt = rng.random(len(sample)) # generate random numbers for shear\n",
        "  amt = (amt-0.5)*shearconstraint # make the random shear constrained\n",
        "  angle = rng.random(len(sample)) # generate random numbers for angles\n",
        "  angle = (angle-0.5)*angleconstraint # make the random angle constrained\n",
        "  nsample = sample.copy() # preallocate the augmented array to make it faster\n",
        "  for ii in range(len(sample)):\n",
        "    nsample[ii] = rotate(shear(sample[ii], amt[ii]), angle[ii]) # first apply shear, then rotate\n",
        "  return np.squeeze(nsample) # take care if the input had only one sample."
      ]
    },
    {
      "cell_type": "markdown",
      "metadata": {
        "id": "OGKyjjNx-NQ4"
      },
      "source": [
        "Since we have two hyperparameters, we have to do the grid search on a 2 dimensional matrix. We can use our previous experience to inform where to search for the best hyperparameters."
      ]
    },
    {
      "cell_type": "code",
      "execution_count": 99,
      "metadata": {
        "colab": {
          "base_uri": "https://localhost:8080/"
        },
        "id": "TJC45WRg0pOP",
        "outputId": "cfabc6b5-8894-45d5-81be-34587785b479"
      },
      "outputs": [
        {
          "name": "stdout",
          "output_type": "stream",
          "text": [
            "Accuracy after augmentation shear: 0.0 angle: 0.0  is  0.6332\n",
            "Accuracy after augmentation shear: 0.0 angle: 10.0  is  0.6379\n",
            "Accuracy after augmentation shear: 0.0 angle: 20.0  is  0.6404\n",
            "Accuracy after augmentation shear: 0.0 angle: 30.0  is  0.5876\n",
            "Accuracy after augmentation shear: 0.0 angle: 40.0  is  0.617\n",
            "Accuracy after augmentation shear: 0.0 angle: 50.0  is  0.6134\n",
            "Accuracy after augmentation shear: 0.0 angle: 60.0  is  0.6251\n",
            "Accuracy after augmentation shear: 0.2 angle: 0.0  is  0.6334\n",
            "Accuracy after augmentation shear: 0.2 angle: 10.0  is  0.6281\n",
            "Accuracy after augmentation shear: 0.2 angle: 20.0  is  0.5973\n",
            "Accuracy after augmentation shear: 0.2 angle: 30.0  is  0.6036\n",
            "Accuracy after augmentation shear: 0.2 angle: 40.0  is  0.6085\n",
            "Accuracy after augmentation shear: 0.2 angle: 50.0  is  0.6194\n",
            "Accuracy after augmentation shear: 0.2 angle: 60.0  is  0.6345\n",
            "Accuracy after augmentation shear: 0.4 angle: 0.0  is  0.6344\n",
            "Accuracy after augmentation shear: 0.4 angle: 10.0  is  0.5858\n",
            "Accuracy after augmentation shear: 0.4 angle: 20.0  is  0.6228\n",
            "Accuracy after augmentation shear: 0.4 angle: 30.0  is  0.6316\n",
            "Accuracy after augmentation shear: 0.4 angle: 40.0  is  0.6309\n",
            "Accuracy after augmentation shear: 0.4 angle: 50.0  is  0.6131\n",
            "Accuracy after augmentation shear: 0.4 angle: 60.0  is  0.6142\n",
            "Accuracy after augmentation shear: 0.6 angle: 0.0  is  0.6347\n",
            "Accuracy after augmentation shear: 0.6 angle: 10.0  is  0.6167\n",
            "Accuracy after augmentation shear: 0.6 angle: 20.0  is  0.6243\n",
            "Accuracy after augmentation shear: 0.6 angle: 30.0  is  0.6146\n",
            "Accuracy after augmentation shear: 0.6 angle: 40.0  is  0.6236\n",
            "Accuracy after augmentation shear: 0.6 angle: 50.0  is  0.6325\n",
            "Accuracy after augmentation shear: 0.6 angle: 60.0  is  0.6296\n",
            "Accuracy after augmentation shear: 0.8 angle: 0.0  is  0.6339\n",
            "Accuracy after augmentation shear: 0.8 angle: 10.0  is  0.6139\n",
            "Accuracy after augmentation shear: 0.8 angle: 20.0  is  0.6152\n",
            "Accuracy after augmentation shear: 0.8 angle: 30.0  is  0.6013\n",
            "Accuracy after augmentation shear: 0.8 angle: 40.0  is  0.6339\n",
            "Accuracy after augmentation shear: 0.8 angle: 50.0  is  0.6315\n",
            "Accuracy after augmentation shear: 0.8 angle: 60.0  is  0.6263\n",
            "Accuracy after augmentation shear: 1.0 angle: 0.0  is  0.6342\n",
            "Accuracy after augmentation shear: 1.0 angle: 10.0  is  0.6325\n",
            "Accuracy after augmentation shear: 1.0 angle: 20.0  is  0.6147\n",
            "Accuracy after augmentation shear: 1.0 angle: 30.0  is  0.6121\n",
            "Accuracy after augmentation shear: 1.0 angle: 40.0  is  0.6139\n",
            "Accuracy after augmentation shear: 1.0 angle: 50.0  is  0.6345\n",
            "Accuracy after augmentation shear: 1.0 angle: 60.0  is  0.6195\n",
            "Accuracy after augmentation shear: 1.2 angle: 0.0  is  0.6329\n",
            "Accuracy after augmentation shear: 1.2 angle: 10.0  is  0.6029\n",
            "Accuracy after augmentation shear: 1.2 angle: 20.0  is  0.6245\n",
            "Accuracy after augmentation shear: 1.2 angle: 30.0  is  0.6132\n",
            "Accuracy after augmentation shear: 1.2 angle: 40.0  is  0.6171\n",
            "Accuracy after augmentation shear: 1.2 angle: 50.0  is  0.6085\n",
            "Accuracy after augmentation shear: 1.2 angle: 60.0  is  0.603\n",
            "Accuracy after augmentation shear: 1.4 angle: 0.0  is  0.6353\n",
            "Accuracy after augmentation shear: 1.4 angle: 10.0  is  0.6321\n",
            "Accuracy after augmentation shear: 1.4 angle: 20.0  is  0.6007\n",
            "Accuracy after augmentation shear: 1.4 angle: 30.0  is  0.6095\n",
            "Accuracy after augmentation shear: 1.4 angle: 40.0  is  0.6272\n",
            "Accuracy after augmentation shear: 1.4 angle: 50.0  is  0.6294\n",
            "Accuracy after augmentation shear: 1.4 angle: 60.0  is  0.6264\n",
            "Accuracy after augmentation shear: 1.6 angle: 0.0  is  0.635\n",
            "Accuracy after augmentation shear: 1.6 angle: 10.0  is  0.6263\n",
            "Accuracy after augmentation shear: 1.6 angle: 20.0  is  0.613\n",
            "Accuracy after augmentation shear: 1.6 angle: 30.0  is  0.6197\n",
            "Accuracy after augmentation shear: 1.6 angle: 40.0  is  0.6285\n",
            "Accuracy after augmentation shear: 1.6 angle: 50.0  is  0.6104\n",
            "Accuracy after augmentation shear: 1.6 angle: 60.0  is  0.6099\n"
          ]
        }
      ],
      "source": [
        "shearconstraints = [0, 0.2,0.4,0.6,0.8,1.0,1.2,1.4,1.6] # the values we want to test\n",
        "angleconstraints = [0,10,20,30,40,50,60] # the values we want to test\n",
        "hyp = cartesian((shearconstraints, angleconstraints)) # cartesian product of both\n",
        "# print(len(hyp))\n",
        "accuracies = np.zeros(len(hyp), dtype=np.float64) # we will save the values here\n",
        "# print(len(accuracies))\n",
        "for ii in range(len(hyp)):\n",
        "  # create the augmented dataset\n",
        "  augdata = train_X # we include the original images also in the augmented dataset\n",
        "  auglabel = train_y\n",
        "  for jj in range(naugmentations):\n",
        "    augdata = np.concatenate((augdata, augRotateShear(train_X, hyp[ii][0], hyp[ii][1]))) # concatenate the augmented data to the set\n",
        "    auglabel = np.concatenate((auglabel, train_y))  # the labels don't change when we augment\n",
        "\n",
        "  # check the test accuracy\n",
        "  testpred = NN(augdata, auglabel, test_X)\n",
        "  accuracies[ii] = Accuracy(test_y, testpred)\n",
        "  print('Accuracy after augmentation shear:',hyp[ii][0], 'angle:',hyp[ii][1], ' is ', accuracies[ii], flush=True)"
      ]
    },
    {
      "cell_type": "markdown",
      "metadata": {
        "id": "PT6CnvSDEX7a"
      },
      "source": [
        "Let us plot it two dimensionally to see which is the best value for the hyperparameters:"
      ]
    },
    {
      "cell_type": "code",
      "execution_count": 100,
      "metadata": {
        "colab": {
          "base_uri": "https://localhost:8080/",
          "height": 482
        },
        "id": "jD2i7msI_cLd",
        "outputId": "eeeba410-ef4a-4547-ce1d-98274842ec60"
      },
      "outputs": [
        {
          "data": {
            "text/plain": [
              "<matplotlib.colorbar.Colorbar at 0x295c3a320>"
            ]
          },
          "execution_count": 100,
          "metadata": {},
          "output_type": "execute_result"
        },
        {
          "data": {
            "image/png": "[encoded data removed]",
            "text/plain": [
              "<Figure size 640x480 with 2 Axes>"
            ]
          },
          "metadata": {},
          "output_type": "display_data"
        }
      ],
      "source": [
        "fig = plt.figure()\n",
        "ax = fig.add_axes([0.1, 0.1, 0.8, 0.8]) # main axes\n",
        "im = ax.imshow(accuracies.reshape((len(shearconstraints), len(angleconstraints))), cmap='inferno')\n",
        "ax.set_xlabel('angle')\n",
        "ax.set_ylabel('shear')\n",
        "ax.set_xticks(np.arange(len(angleconstraints)));\n",
        "ax.set_xticklabels(angleconstraints);\n",
        "ax.set_yticks(np.arange(len(shearconstraints)));\n",
        "ax.set_yticklabels(shearconstraints);\n",
        "plt.colorbar(im)"
      ]
    },
    {
      "cell_type": "markdown",
      "metadata": {
        "id": "OHcZWJiFJDMh"
      },
      "source": [
        "It seems that rotation and shear don't mix! The best accuracy is when rotation is zero."
      ]
    },
    {
      "cell_type": "markdown",
      "metadata": {
        "id": "PAasQo1C3x4A"
      },
      "source": [
        "## Questions\n",
        "Try these questions for better understanding. You may not be able to solve all of them.\n",
        "1. What is the best value for angle constraint and shear constraint you got? How much did the accuracy improve as compared to not using augmentations?\n",
        "2. Can you increase the accuracy by increasing the number of augmentations from each sample?\n",
        "3. Try implementing a few augmentations of your own and experimenting with them. A good reference is <a href=https://www.analyticsvidhya.com/blog/2019/12/image-augmentation-deep-learning-pytorch/>here. </a>\n",
        "4. Try combining various augmentations. What is the highest accuracy you can get? What is the smallest training dataset you can take and still get accuracy above 50%?\n",
        "\n",
        "Whenever you do any experiment, a good practice is to vary the hyperparameters gradually and create a graph of your results, like we did for gridsearch."
      ]
    },
    {
      "cell_type": "markdown",
      "metadata": {},
      "source": [
        "1. A. The highest accuracy i got for both angle constrain and shear constrain was 0.6404 at an angle of 20.0 degrees and 0.0 shear tranformation. which dosent improve as compared to not using augmentation, The accuracy which i have got without using any argumentaion was 0.6472. And the accuracy that I've got for only rotaion was 0.684, which is way more better than the combined one and no-augumentaion one's."
      ]
    },
    {
      "cell_type": "code",
      "execution_count": 101,
      "metadata": {},
      "outputs": [
        {
          "name": "stdout",
          "output_type": "stream",
          "text": [
            "Maximum accuracy at  0  number of argumets is  0.6472  at an angle  0\n",
            "Maximum accuracy at  5  number of argumets is  0.6719  at an angle  50\n",
            "Maximum accuracy at  10  number of argumets is  0.6899  at an angle  40\n",
            "Maximum accuracy at  15  number of argumets is  0.6852  at an angle  30\n",
            "Maximum accuracy at  20  number of argumets is  0.6873  at an angle  30\n",
            "Maximum accuracy at  25  number of argumets is  0.6884  at an angle  30\n",
            "Maximum accuracy at  30  number of argumets is  0.6879  at an angle  30\n",
            "Maximum accuracy at  35  number of argumets is  0.6885  at an angle  30\n",
            "Maximum accuracy at  40  number of argumets is  0.6866  at an angle  30\n",
            "Maximum accuracy at  45  number of argumets is  0.6873  at an angle  30\n",
            "Maximum accuracy at  50  number of argumets is  0.6883  at an angle  30\n"
          ]
        }
      ],
      "source": [
        "# 2. A. Increasing the number of augmentations from each sample can sometimes improve the accuracy of the model, \n",
        "# but it's not a guaranteed and may have diminishing returns.\n",
        "\n",
        "angleconstraints = [0,10,20,30,40,50,60,70,80,90] # the values we want to test\n",
        "\n",
        "nargumentations = list(range(0, 51, 5))\n",
        "\n",
        "for i in nargumentations:\n",
        "  \n",
        "  accuracies = np.zeros(len(angleconstraints), dtype=np.float64) # we will save the values here\n",
        "  maxaccuracy = -1\n",
        "  angle = 0\n",
        "  for ii in range(len(angleconstraints)):\n",
        "    # create the augmented dataset\n",
        "    augdata = train_X # we include the original images also in the augmented dataset\n",
        "    auglabel = train_y\n",
        "\n",
        "    for jj in range(i):\n",
        "      augdata = np.concatenate((augdata, augRotate(train_X, angleconstraints[ii]))) # concatenate the augmented data to the set\n",
        "      auglabel = np.concatenate((auglabel, train_y))  # the labels don't change when we augment\n",
        "\n",
        "    # check the test accuracy\n",
        "    testpred = NN(augdata, auglabel, test_X)\n",
        "    accuracies[ii] = Accuracy(test_y, testpred)\n",
        "    if (accuracies[ii] > maxaccuracy):\n",
        "      maxaccuracy = accuracies[ii]\n",
        "      angle  = angleconstraints[ii]\n",
        "  print(\"Maximum accuracy at \", i, \" number of argumets is \",maxaccuracy,\" at an angle \",angle)\n",
        "    # print('Accuracy after rotation augmentation constrained by ',angleconstraints[ii], ' is ', accuracies[ii], flush=True)"
      ]
    },
    {
      "cell_type": "code",
      "execution_count": 102,
      "metadata": {},
      "outputs": [
        {
          "data": {
            "image/png": "[encoded data removed]",
            "text/plain": [
              "<Figure size 640x480 with 1 Axes>"
            ]
          },
          "metadata": {},
          "output_type": "display_data"
        },
        {
          "data": {
            "image/png": "[encoded data removed]",
            "text/plain": [
              "<Figure size 640x480 with 1 Axes>"
            ]
          },
          "metadata": {},
          "output_type": "display_data"
        },
        {
          "name": "stdout",
          "output_type": "stream",
          "text": [
            "Accuracy of ( 0 , 0 ) shift is  0.6472\n",
            "Accuracy of ( 0 , 1 ) shift is  0.6476\n",
            "Accuracy of ( 0 , 2 ) shift is  0.6311\n",
            "Accuracy of ( 0 , 3 ) shift is  0.6263\n",
            "Accuracy of ( 0 , 4 ) shift is  0.6284\n",
            "Accuracy of ( 0 , 5 ) shift is  0.6398\n",
            "Accuracy of ( 1 , 0 ) shift is  0.6603\n",
            "Accuracy of ( 1 , 1 ) shift is  0.6411\n",
            "Accuracy of ( 1 , 2 ) shift is  0.6235\n",
            "Accuracy of ( 1 , 3 ) shift is  0.622\n",
            "Accuracy of ( 1 , 4 ) shift is  0.6302\n",
            "Accuracy of ( 1 , 5 ) shift is  0.6386\n",
            "Accuracy of ( 2 , 0 ) shift is  0.645\n",
            "Accuracy of ( 2 , 1 ) shift is  0.6206\n",
            "Accuracy of ( 2 , 2 ) shift is  0.6114\n",
            "Accuracy of ( 2 , 3 ) shift is  0.6187\n",
            "Accuracy of ( 2 , 4 ) shift is  0.6307\n",
            "Accuracy of ( 2 , 5 ) shift is  0.6395\n",
            "Accuracy of ( 3 , 0 ) shift is  0.6201\n",
            "Accuracy of ( 3 , 1 ) shift is  0.6067\n",
            "Accuracy of ( 3 , 2 ) shift is  0.6136\n",
            "Accuracy of ( 3 , 3 ) shift is  0.6266\n",
            "Accuracy of ( 3 , 4 ) shift is  0.6345\n",
            "Accuracy of ( 3 , 5 ) shift is  0.6406\n",
            "Accuracy of ( 4 , 0 ) shift is  0.617\n",
            "Accuracy of ( 4 , 1 ) shift is  0.6121\n",
            "Accuracy of ( 4 , 2 ) shift is  0.6223\n",
            "Accuracy of ( 4 , 3 ) shift is  0.6309\n",
            "Accuracy of ( 4 , 4 ) shift is  0.6377\n",
            "Accuracy of ( 4 , 5 ) shift is  0.6411\n",
            "Accuracy of ( 5 , 0 ) shift is  0.6191\n",
            "Accuracy of ( 5 , 1 ) shift is  0.6194\n",
            "Accuracy of ( 5 , 2 ) shift is  0.6277\n",
            "Accuracy of ( 5 , 3 ) shift is  0.633\n",
            "Accuracy of ( 5 , 4 ) shift is  0.6396\n",
            "Accuracy of ( 5 , 5 ) shift is  0.6419\n"
          ]
        }
      ],
      "source": [
        "# 3. A. Another type of argumentaion technique i.e translation of images i.e \n",
        "# shifting the numbers in the xy plane\n",
        "\n",
        "def translate_image(image, tx, ty):\n",
        "    # Translate the image horizontally (tx) and vertically (ty)\n",
        "    if(len(image.shape) == 2):\n",
        "        image = np.expand_dims(image,0)\n",
        "    translated_image = image.copy()\n",
        "    for i in range(len(image)):\n",
        "        translated_image[i] = np.roll(image[i], (tx, ty), axis=(0, 1))\n",
        "        translated_image[i, :tx, :] = 0  # Fill the empty space with zeros\n",
        "        translated_image[i, :, :ty] = 0\n",
        "    return np.squeeze(translated_image)\n",
        "\n",
        "original_image = train_X[2]\n",
        "# print(original_image.shape)\n",
        "translated_image = translate_image(original_image, tx=5, ty=5)\n",
        "plt.imshow(original_image, cmap='gray')\n",
        "plt.title(\"Original\")\n",
        "plt.show()\n",
        "plt.imshow(translated_image, cmap='gray')\n",
        "plt.title(\"Translated\")\n",
        "plt.show()\n",
        "\n",
        "\n",
        "narguments = 5\n",
        "accuracies = np.zeros((6,6), dtype=np.float64)\n",
        "for x in range(0,6):\n",
        "    for y in range(0,6):\n",
        "        augdata = train_X\n",
        "        auglabel = train_y\n",
        "        for i in range(narguments):\n",
        "            augdata = np.concatenate((augdata, translate_image(train_X, tx=x, ty=y)))\n",
        "            auglabel = np.concatenate((auglabel, train_y))\n",
        "        testpred = NN(augdata, auglabel, test_X)\n",
        "        accuracies[x][y] = Accuracy(test_y, testpred)\n",
        "        print(\"Accuracy of (\",x,\",\",y,\") shift is \", accuracies[x][y])\n",
        "\n",
        "\n"
      ]
    },
    {
      "cell_type": "code",
      "execution_count": 103,
      "metadata": {},
      "outputs": [
        {
          "name": "stdout",
          "output_type": "stream",
          "text": [
            "Accuracy Table for the Translation of the images is \n",
            " [[0.6472 0.6476 0.6311 0.6263 0.6284 0.6398]\n",
            " [0.6603 0.6411 0.6235 0.622  0.6302 0.6386]\n",
            " [0.645  0.6206 0.6114 0.6187 0.6307 0.6395]\n",
            " [0.6201 0.6067 0.6136 0.6266 0.6345 0.6406]\n",
            " [0.617  0.6121 0.6223 0.6309 0.6377 0.6411]\n",
            " [0.6191 0.6194 0.6277 0.633  0.6396 0.6419]]\n"
          ]
        }
      ],
      "source": [
        "print(\"Accuracy Table for the Translation of the images is \\n\", accuracies)"
      ]
    },
    {
      "cell_type": "code",
      "execution_count": 104,
      "metadata": {},
      "outputs": [
        {
          "name": "stdout",
          "output_type": "stream",
          "text": [
            "(25, 28, 28)\n",
            "(25,)\n"
          ]
        }
      ],
      "source": [
        "# 4. A. Lets now take a smallest dataset i.e with only 25 images [ which covers all the classes ]\n",
        "train_X = train_X[::2].copy()\n",
        "train_Y = train_y[::2].copy()\n",
        "print(train_X.shape)\n",
        "print(train_Y.shape)"
      ]
    },
    {
      "cell_type": "code",
      "execution_count": 105,
      "metadata": {},
      "outputs": [
        {
          "name": "stdout",
          "output_type": "stream",
          "text": [
            "[5 8 6 9 2 7 6 7 3 0 8 9 4 9 1 9 6 9 3 7 4 1 9 9 7]\n"
          ]
        }
      ],
      "source": [
        "print(train_Y)"
      ]
    },
    {
      "cell_type": "code",
      "execution_count": 106,
      "metadata": {},
      "outputs": [
        {
          "name": "stdout",
          "output_type": "stream",
          "text": [
            "Baseline accuracy without augmentation is  0.5717\n"
          ]
        }
      ],
      "source": [
        "testpred = NN(train_X, train_Y, test_X)\n",
        "print('Baseline accuracy without augmentation is ', Accuracy(test_y, testpred))"
      ]
    },
    {
      "cell_type": "code",
      "execution_count": 107,
      "metadata": {},
      "outputs": [
        {
          "data": {
            "image/png": "[encoded data removed]",
            "text/plain": [
              "<Figure size 640x480 with 2 Axes>"
            ]
          },
          "metadata": {},
          "output_type": "display_data"
        },
        {
          "data": {
            "text/plain": [
              "Text(0.5, 1.0, 'rotationTranslated')"
            ]
          },
          "execution_count": 107,
          "metadata": {},
          "output_type": "execute_result"
        },
        {
          "data": {
            "image/png": "[encoded data removed]",
            "text/plain": [
              "<Figure size 640x480 with 2 Axes>"
            ]
          },
          "metadata": {},
          "output_type": "display_data"
        }
      ],
      "source": [
        "\n",
        "def shearTranslation(image, tx, ty, shearconstraint):\n",
        "    image = augShear(image, shearconstraint)\n",
        "    image = translate_image(image, tx, ty)\n",
        "    return image\n",
        "\n",
        "def rotationTranslation(image, tx, ty, angleconstraint):\n",
        "    image = augRotate(image, angleconstraint)\n",
        "    image = translate_image(image, tx, ty)\n",
        "    return image\n",
        "\n",
        "original_image = train_X[0]\n",
        "# print(original_image.shape)\n",
        "shearTranslated_image = shearTranslation(original_image, 4,4,1)\n",
        "plt.subplot(1,2,1)\n",
        "plt.imshow(original_image, cmap='gray')\n",
        "plt.title(\"Original\")\n",
        "plt.subplot(1,2,2)\n",
        "plt.imshow(shearTranslated_image, cmap='gray')\n",
        "plt.title(\"shearTranslated\")\n",
        "plt.show()\n",
        "\n",
        "rotationTranslated_image = rotationTranslation(original_image, 4,4, 70)\n",
        "plt.subplot(1,2,1)\n",
        "plt.imshow(original_image, cmap='gray')\n",
        "plt.title(\"Original\")\n",
        "plt.subplot(1,2,2)\n",
        "plt.imshow(rotationTranslated_image, cmap='gray')\n",
        "plt.title(\"rotationTranslated\")\n",
        "\n"
      ]
    },
    {
      "cell_type": "code",
      "execution_count": 108,
      "metadata": {},
      "outputs": [],
      "source": [
        "narguments = 5\n",
        "\n",
        "# angleconstraints = [0,10,20,30,40,50,60,70,80,90]\n",
        "augdata = train_X\n",
        "auglabel = train_Y\n",
        "# c = 1\n",
        "# for ii in range(len(angleconstraints)):\n",
        "#   for jj in range(narguments):\n",
        "#     augdata = np.concatenate((augdata, augRotate(train_X, angleconstraints[ii]))) # concatenate the augmented data to the set\n",
        "#     # c += 1\n",
        "#     auglabel = np.concatenate((auglabel, train_Y))  # the labels don't change when we augment\n",
        "\n",
        "# print(augdata.shape, c)\n",
        "\n",
        "for i in range(narguments):\n",
        "    augdata = np.concatenate((augdata, augRotate(train_X, 30)))\n",
        "    auglabel = np.concatenate((auglabel, train_Y))\n",
        "\n",
        "train_X  = augdata\n",
        "train_Y = auglabel\n"
      ]
    },
    {
      "cell_type": "code",
      "execution_count": 109,
      "metadata": {},
      "outputs": [],
      "source": [
        "augdata = train_X\n",
        "auglabel = train_Y\n",
        "\n",
        "for x in range(0,6):\n",
        "    for y in range(0,6):\n",
        "        for i in range(narguments):\n",
        "            augdata = np.concatenate((augdata, translate_image(train_X, tx=x, ty=y)))\n",
        "            auglabel = np.concatenate((auglabel, train_Y))\n",
        "train_X = augdata\n",
        "train_Y = auglabel"
      ]
    },
    {
      "cell_type": "code",
      "execution_count": 110,
      "metadata": {},
      "outputs": [
        {
          "name": "stdout",
          "output_type": "stream",
          "text": [
            "(27150, 28, 28)\n",
            "(27150,)\n"
          ]
        }
      ],
      "source": [
        "print(train_X.shape)\n",
        "print(train_Y.shape)"
      ]
    },
    {
      "cell_type": "code",
      "execution_count": 111,
      "metadata": {},
      "outputs": [
        {
          "name": "stdout",
          "output_type": "stream",
          "text": [
            "Accuracy after augmentation is  0.6241\n"
          ]
        }
      ],
      "source": [
        "testpred = NN(train_X, train_Y, test_X)\n",
        "print('Accuracy after augmentation is ', Accuracy(test_y, testpred))"
      ]
    },
    {
      "cell_type": "markdown",
      "metadata": {},
      "source": [
        "The highest accuracy that i have obtained while taking a small dataset and augumenting its data items is 0.6241"
      ]
    },
    {
      "cell_type": "code",
      "execution_count": 112,
      "metadata": {},
      "outputs": [],
      "source": [
        "#  Doubt : why the no  of train_X and no of train_Y is varying ?\n",
        "\n",
        "# shearconstraints = [0, 0.2,0.4,0.6,0.8,1.0,1.2,1.4,1.6]\n",
        "# angleconstraints = [0,10,20,30,40,50,60]\n",
        "# print(len(hyp))\n",
        "# augdata = train_X\n",
        "# auglabel = train_y\n",
        "# for ii in range(len(hyp)):\n",
        "#   for jj in range(narguments):\n",
        "#     augdata = np.concatenate((augdata, augRotateShear(train_X, hyp[ii][0], hyp[ii][1]))) # concatenate the augmented data to the set\n",
        "#     auglabel = np.concatenate((auglabel, train_Y))  # the labels don't change when we augment\n",
        "\n",
        "# train_X = augdata\n",
        "# train_Y = auglabel"
      ]
    }
  ],
  "metadata": {
    "colab": {
      "provenance": []
    },
    "interpreter": {
      "hash": "4bd624a0593993fe43ac4046b27b898fb2ef75c21c08f81e89e64ea0f51df676"
    },
    "kernelspec": {
      "display_name": "Python 3.10.12 ('tensorflow')",
      "language": "python",
      "name": "python3"
    },
    "language_info": {
      "codemirror_mode": {
        "name": "ipython",
        "version": 3
      },
      "file_extension": ".py",
      "mimetype": "text/x-python",
      "name": "python",
      "nbconvert_exporter": "python",
      "pygments_lexer": "ipython3",
      "version": "3.10.12"
    }
  },
  "nbformat": 4,
  "nbformat_minor": 0
}
